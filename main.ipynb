{
 "cells": [
  {
   "cell_type": "markdown",
   "id": "3d3b3b04",
   "metadata": {},
   "source": [
    "## EDA"
   ]
  },
  {
   "cell_type": "code",
   "execution_count": 2,
   "id": "486dd2f1",
   "metadata": {},
   "outputs": [
    {
     "name": "stderr",
     "output_type": "stream",
     "text": [
      "[nltk_data] Downloading package punkt to\n",
      "[nltk_data]     C:\\Users\\Zainab\\AppData\\Roaming\\nltk_data...\n",
      "[nltk_data]   Package punkt is already up-to-date!\n",
      "[nltk_data] Downloading package stopwords to\n",
      "[nltk_data]     C:\\Users\\Zainab\\AppData\\Roaming\\nltk_data...\n",
      "[nltk_data]   Package stopwords is already up-to-date!\n",
      "[nltk_data] Downloading package wordnet to\n",
      "[nltk_data]     C:\\Users\\Zainab\\AppData\\Roaming\\nltk_data...\n",
      "[nltk_data]   Package wordnet is already up-to-date!\n",
      "[nltk_data] Downloading package punkt_tab to\n",
      "[nltk_data]     C:\\Users\\Zainab\\AppData\\Roaming\\nltk_data...\n",
      "[nltk_data]   Package punkt_tab is already up-to-date!\n"
     ]
    },
    {
     "data": {
      "text/plain": [
       "True"
      ]
     },
     "execution_count": 2,
     "metadata": {},
     "output_type": "execute_result"
    }
   ],
   "source": [
    "import re\n",
    "import pandas as pd\n",
    "import numpy as np\n",
    "import matplotlib.pyplot as plt\n",
    "import seaborn as sns\n",
    "import nltk\n",
    "from nltk.corpus import stopwords\n",
    "from nltk.stem import WordNetLemmatizer\n",
    "from nltk.tokenize import word_tokenize\n",
    "from nltk.tokenize import sent_tokenize\n",
    "nltk.download('punkt')\n",
    "nltk.download('stopwords')\n",
    "nltk.download('wordnet')\n",
    "nltk.download('punkt_tab')"
   ]
  },
  {
   "cell_type": "code",
   "execution_count": 3,
   "id": "a189b160",
   "metadata": {},
   "outputs": [],
   "source": [
    "# Load original data\n",
    "original_df = pd.read_csv('./dataset/cleaned_music_reviews.csv') \n",
    "original_df['is_synthetic'] = False\n",
    "synth_df = pd.read_csv('./dataset/synthetic_low_ratings_4000.csv')"
   ]
  },
  {
   "cell_type": "code",
   "execution_count": 4,
   "metadata": {},
   "outputs": [],
   "source": [
    "# Create a new dataframe with 'Cleaned_Review' and 'Rating' from both original and synthetic data\n",
    "cleaned_df = pd.concat([\n",
    "    original_df[['Cleaned_Review', 'Rating']],\n",
    "    synth_df[['Cleaned_Review', 'Rating']]\n",
    "], ignore_index=True)"
   ]
  },
  {
   "cell_type": "code",
   "execution_count": 5,
   "metadata": {},
   "outputs": [
    {
     "name": "stdout",
     "output_type": "stream",
     "text": [
      "Dataset size: 97841\n",
      "Rating distribution:\n",
      "Rating\n",
      "5.0    29395\n",
      "4.5    17728\n",
      "4.0    14153\n",
      "3.5     7011\n",
      "2.5     6201\n",
      "2.0     5387\n",
      "1.5     4634\n",
      "1.0     4521\n",
      "3.0     4416\n",
      "0.5     4395\n",
      "Name: count, dtype: int64\n"
     ]
    }
   ],
   "source": [
    "print(f\"Dataset size: {len(cleaned_df)}\")\n",
    "print(f\"Rating distribution:\\n{cleaned_df['Rating'].value_counts()}\")"
   ]
  },
  {
   "cell_type": "code",
   "execution_count": 7,
   "metadata": {},
   "outputs": [
    {
     "data": {
      "text/plain": [
       "Cleaned_Review    0\n",
       "Rating            0\n",
       "dtype: int64"
      ]
     },
     "execution_count": 7,
     "metadata": {},
     "output_type": "execute_result"
    }
   ],
   "source": [
    "cleaned_df.isna().sum()"
   ]
  },
  {
   "cell_type": "code",
   "execution_count": 8,
   "metadata": {},
   "outputs": [],
   "source": [
    "#drop null values\n",
    "cleaned_df.dropna(inplace=True)"
   ]
  },
  {
   "cell_type": "code",
   "execution_count": 9,
   "metadata": {},
   "outputs": [
    {
     "data": {
      "text/plain": [
       "0"
      ]
     },
     "execution_count": 9,
     "metadata": {},
     "output_type": "execute_result"
    }
   ],
   "source": [
    "(cleaned_df['Cleaned_Review'] == '').sum()"
   ]
  },
  {
   "cell_type": "code",
   "execution_count": 2,
   "metadata": {},
   "outputs": [
    {
     "ename": "NameError",
     "evalue": "name 'cleaned_df' is not defined",
     "output_type": "error",
     "traceback": [
      "\u001b[1;31m---------------------------------------------------------------------------\u001b[0m",
      "\u001b[1;31mNameError\u001b[0m                                 Traceback (most recent call last)",
      "Cell \u001b[1;32mIn[2], line 1\u001b[0m\n\u001b[1;32m----> 1\u001b[0m cleaned_csv \u001b[38;5;241m=\u001b[39m cleaned_df\u001b[38;5;241m.\u001b[39mto_csv(\u001b[38;5;124m'\u001b[39m\u001b[38;5;124m./dataset/cleaned_music_reviews2.csv\u001b[39m\u001b[38;5;124m'\u001b[39m,index\u001b[38;5;241m=\u001b[39m\u001b[38;5;28;01mFalse\u001b[39;00m)\n",
      "\u001b[1;31mNameError\u001b[0m: name 'cleaned_df' is not defined"
     ]
    }
   ],
   "source": [
    "cleaned_csv = cleaned_df.to_csv('./dataset/cleaned_music_reviews2.csv',index=False)"
   ]
  },
  {
   "cell_type": "code",
   "execution_count": 3,
   "metadata": {},
   "outputs": [
    {
     "data": {
      "text/plain": [
       "(97841, 2)"
      ]
     },
     "execution_count": 3,
     "metadata": {},
     "output_type": "execute_result"
    }
   ],
   "source": [
    "import pandas as pd\n",
    "cleaned_df = pd.read_csv('./dataset/cleaned_music_reviews2.csv')\n",
    "cleaned_df.shape"
   ]
  },
  {
   "cell_type": "markdown",
   "id": "24ddd8a1",
   "metadata": {},
   "source": [
    "## TF-IDF"
   ]
  },
  {
   "cell_type": "code",
   "execution_count": 4,
   "metadata": {},
   "outputs": [],
   "source": [
    "from sklearn.feature_extraction.text import TfidfVectorizer\n",
    "\n",
    "\n",
    "tfidf_vectorizer = TfidfVectorizer(\n",
    "    ngram_range=(1,3),\n",
    "    max_df=0.8,\n",
    "    min_df=5,\n",
    "    sublinear_tf=True \n",
    ")\n",
    "\n",
    "X = tfidf_vectorizer.fit_transform(cleaned_df['Cleaned_Review'])\n",
    "vocab = tfidf_vectorizer.get_feature_names_out()"
   ]
  },
  {
   "cell_type": "code",
   "execution_count": 7,
   "id": "514d5e54",
   "metadata": {},
   "outputs": [
    {
     "name": "stderr",
     "output_type": "stream",
     "text": [
      "[nltk_data] Downloading package vader_lexicon to\n",
      "[nltk_data]     C:\\Users\\Zainab\\AppData\\Roaming\\nltk_data...\n"
     ]
    },
    {
     "data": {
      "text/plain": [
       "{'neg': 0.0, 'neu': 0.631, 'pos': 0.369, 'compound': 0.6239}"
      ]
     },
     "execution_count": 7,
     "metadata": {},
     "output_type": "execute_result"
    }
   ],
   "source": [
    "import nltk\n",
    "nltk.download('vader_lexicon')\n",
    "from nltk.sentiment.vader import SentimentIntensityAnalyzer\n",
    "sia = SentimentIntensityAnalyzer()\n",
    "sia.polarity_scores(\"Wow, just what I needed - another generic pop album!\")"
   ]
  },
  {
   "cell_type": "code",
   "execution_count": 4,
   "metadata": {},
   "outputs": [],
   "source": [
    "y = cleaned_df['Rating']\n",
    "from sklearn.model_selection import train_test_split\n",
    "X_train, X_test, y_train, y_test = train_test_split(X, y, test_size=0.2, random_state=42)"
   ]
  },
  {
   "cell_type": "code",
   "execution_count": 6,
   "metadata": {},
   "outputs": [
    {
     "name": "stdout",
     "output_type": "stream",
     "text": [
      "MSE: 0.3880349426888212\n",
      "R2: 0.7999400794691092\n"
     ]
    }
   ],
   "source": [
    "from sklearn.linear_model import Ridge\n",
    "from sklearn.metrics import mean_squared_error, r2_score\n",
    "\n",
    "# Higher weights for rare ratings)\n",
    "\n",
    "model = Ridge(alpha=1.0)\n",
    "model.fit(X_train,y_train)\n",
    "y_pred = model.predict(X_test)\n",
    "\n",
    "mse = mean_squared_error(y_test,y_pred)\n",
    "r2 = r2_score(y_test,y_pred)\n",
    "\n",
    "print(f\"MSE: {mse}\")\n",
    "print(f\"R2: {r2}\")"
   ]
  },
  {
   "cell_type": "code",
   "execution_count": 15,
   "id": "1459806e",
   "metadata": {},
   "outputs": [],
   "source": [
    "#function which tokenizes the text,lowercase the text, remove stopwords, and lemmatize the text \n",
    "def preprocess_text(text):\n",
    "    text = text.lower()\n",
    "    text = re.sub(r'[^a-zA-Z\\s!?]', '', text)  # Keep !? for sentiment\n",
    "    words = word_tokenize(text)\n",
    "    stop_words = list(stopwords.words('english'))\n",
    "    words = [word for word in words if word not in stop_words]\n",
    "    lemmatizer = WordNetLemmatizer()\n",
    "    words = [lemmatizer.lemmatize(word) for word in words]\n",
    "    return ' '.join(words)"
   ]
  },
  {
   "cell_type": "code",
   "execution_count": 16,
   "metadata": {},
   "outputs": [
    {
     "name": "stdout",
     "output_type": "stream",
     "text": [
      "\n",
      "Review: The album was a masterpiece from start to finish\n",
      "Predicted rating: 4.98 (scale: 0.5-5.0)\n",
      "\n",
      "Review: This album changed my life! Perfect in every way\n",
      "Predicted rating: 5.00 (scale: 0.5-5.0)\n",
      "\n",
      "Review: Some good tracks but overall disappointing\n",
      "Predicted rating: 3.00 (scale: 0.5-5.0)\n",
      "\n",
      "Review: The vocals were amazing, though the production quality ruined it\n",
      "Predicted rating: 3.19 (scale: 0.5-5.0)\n",
      "\n",
      "Review: A genre-defying record that blends jazz, electronica, and rock seamlessly, though some tracks feel unnecessarily long and meandering.\n",
      "Predicted rating: 3.50 (scale: 0.5-5.0)\n",
      "\n",
      "Review: Despite the hype, the album lacks originality and feels like a rehash of the band's previous work, with only a few standout moments.\n",
      "Predicted rating: 2.64 (scale: 0.5-5.0)\n",
      "\n",
      "Review: The production is lush and detailed, but the lyrics are pretentious and the melodies forgettable, making for a frustrating listen.\n",
      "Predicted rating: 2.85 (scale: 0.5-5.0)\n",
      "\n",
      "Review: There are a few catchy songs, but most of the album is forgettable.\n",
      "Predicted rating: 2.97 (scale: 0.5-5.0)\n",
      "\n",
      "Review: The instrumentation is solid, but the songwriting leaves much to be desired.\n",
      "Predicted rating: 3.58 (scale: 0.5-5.0)\n",
      "\n",
      "Review: Some tracks are fantastic, others are just filler.\n",
      "Predicted rating: 4.42 (scale: 0.5-5.0)\n",
      "\n",
      "Review: Wow, what an album. I totally needed another hour of generic pop songs in my life.\n",
      "Predicted rating: 3.79 (scale: 0.5-5.0)\n",
      "\n",
      "Review: Groundbreaking stuffΓÇöI've never heard such originality in a song called 'Love Tonight' before.\n",
      "Predicted rating: 4.28 (scale: 0.5-5.0)\n",
      "\n",
      "Review: If boredom was an art form, this album would be a masterpiece.\n",
      "Predicted rating: 4.08 (scale: 0.5-5.0)\n",
      "\n",
      "Review: Oh great, another autotuned ballad. Just what the world was missing.\n",
      "Predicted rating: 3.65 (scale: 0.5-5.0)\n",
      "\n",
      "Review: Truly inspiring how they managed to make every track sound exactly the same.\n",
      "Predicted rating: 4.33 (scale: 0.5-5.0)\n",
      "\n",
      "Review: I laughed, I cried, mostly because I couldn't believe I paid for this.\n",
      "Predicted rating: 4.44 (scale: 0.5-5.0)\n",
      "\n",
      "Review: This album really redefines the word 'mediocre'.\n",
      "Predicted rating: 2.99 (scale: 0.5-5.0)\n",
      "\n",
      "Review: So innovative, I almost didn't fall asleep halfway through.\n",
      "Predicted rating: 4.35 (scale: 0.5-5.0)\n",
      "\n",
      "Review: Mediocre at best - nothing special\n",
      "Predicted rating: 1.58 (scale: 0.5-5.0)\n",
      "\n",
      "Review: This album was the worst thing I heard in my life, Death to the artist and the producer, disgusting, awful, bad , waste of time\n",
      "Predicted rating: 1.72 (scale: 0.5-5.0)\n",
      "\n",
      "Review: Absolutely terrible album, not a single redeeming quality. I regret listening to it.\n",
      "Predicted rating: 2.02 (scale: 0.5-5.0)\n",
      "\n",
      "Review: Horrible in every way, the worst music I've ever heard.\n",
      "Predicted rating: 2.97 (scale: 0.5-5.0)\n",
      "\n",
      "Review: Unbearable noise, couldn't finish a single track.\n",
      "Predicted rating: 3.42 (scale: 0.5-5.0)\n",
      "\n",
      "Review: A complete disaster, avoid at all costs.\n",
      "Predicted rating: 0.50 (scale: 0.5-5.0)\n",
      "\n",
      "Review: Painful to listen to, a total waste of time.\n",
      "Predicted rating: 2.41 (scale: 0.5-5.0)\n",
      "\n",
      "Review: Zero talent, zero effort, zero enjoyment.\n",
      "Predicted rating: 2.82 (scale: 0.5-5.0)\n",
      "\n",
      "Review: This album is an insult to music.\n",
      "Predicted rating: 4.46 (scale: 0.5-5.0)\n",
      "\n",
      "Review: If I could give it a zero, I would.\n",
      "Predicted rating: 3.76 (scale: 0.5-5.0)\n",
      "\n",
      "Review: The most disappointing and awful release of the year.\n",
      "Predicted rating: 1.29 (scale: 0.5-5.0)\n",
      "\n",
      "Review: Disgusting, offensive, and unlistenable.\n",
      "Predicted rating: 2.11 (scale: 0.5-5.0)\n"
     ]
    }
   ],
   "source": [
    "def predict_rating(review):\n",
    "    # Preprocess\n",
    "    processed_review = preprocess_text(review)\n",
    "\n",
    "    # Transform\n",
    "    review_vector = tfidf_vectorizer.transform([processed_review])\n",
    "    # Predict\n",
    "    rating = model.predict(review_vector)[0]\n",
    "\n",
    "    # Ensure rating is within original bounds\n",
    "    min_rating, max_rating = cleaned_df['Rating'].min(), cleaned_df['Rating'].max()\n",
    "    rating = np.clip(rating, min_rating, max_rating)\n",
    "\n",
    "    return f\"Predicted rating: {rating:.2f} (scale: {min_rating}-{max_rating})\"\n",
    "\n",
    "# Test cases\n",
    "test_reviews = [\n",
    "    # Positive\n",
    "    \"The album was a masterpiece from start to finish\",\n",
    "    \"This album changed my life! Perfect in every way\",\n",
    "    # Mixed\n",
    "    \"Some good tracks but overall disappointing\",\n",
    "    \"The vocals were amazing, though the production quality ruined it\",\n",
    "    \"A genre-defying record that blends jazz, electronica, and rock seamlessly, though some tracks feel unnecessarily long and meandering.\",\n",
    "    \"Despite the hype, the album lacks originality and feels like a rehash of the band's previous work, with only a few standout moments.\",\n",
    "    \"The production is lush and detailed, but the lyrics are pretentious and the melodies forgettable, making for a frustrating listen.\",\n",
    "    \"There are a few catchy songs, but most of the album is forgettable.\",\n",
    "    \"The instrumentation is solid, but the songwriting leaves much to be desired.\",\n",
    "    \"Some tracks are fantastic, others are just filler.\",\n",
    "    # Sarcastic\n",
    "    \"Wow, what an album. I totally needed another hour of generic pop songs in my life.\",\n",
    "    \"Groundbreaking stuffΓÇöI've never heard such originality in a song called 'Love Tonight' before.\",\n",
    "    \"If boredom was an art form, this album would be a masterpiece.\",\n",
    "    \"Oh great, another autotuned ballad. Just what the world was missing.\",\n",
    "    \"Truly inspiring how they managed to make every track sound exactly the same.\",\n",
    "    \"I laughed, I cried, mostly because I couldn't believe I paid for this.\",\n",
    "    \"This album really redefines the word 'mediocre'.\",\n",
    "    \"So innovative, I almost didn't fall asleep halfway through.\",\n",
    "    # Negative\n",
    "    \"Mediocre at best - nothing special\",\n",
    "    \"This album was the worst thing I heard in my life, Death to the artist and the producer, disgusting, awful, bad , waste of time\",\n",
    "    \"Absolutely terrible album, not a single redeeming quality. I regret listening to it.\",\n",
    "    \"Horrible in every way, the worst music I've ever heard.\",\n",
    "    \"Unbearable noise, couldn't finish a single track.\",\n",
    "    \"A complete disaster, avoid at all costs.\",\n",
    "    \"Painful to listen to, a total waste of time.\",\n",
    "    \"Zero talent, zero effort, zero enjoyment.\",\n",
    "    \"This album is an insult to music.\",\n",
    "    \"If I could give it a zero, I would.\",\n",
    "    \"The most disappointing and awful release of the year.\",\n",
    "    \"Disgusting, offensive, and unlistenable.\"\n",
    "]\n",
    "\n",
    "for review in test_reviews:\n",
    "    print(f\"\\nReview: {review}\")\n",
    "    print(predict_rating(review))"
   ]
  },
  {
   "cell_type": "code",
   "execution_count": 17,
   "metadata": {},
   "outputs": [
    {
     "name": "stdout",
     "output_type": "stream",
     "text": [
      "The predicted rating for the review 'bad' is: 2.05\n"
     ]
    }
   ],
   "source": [
    "# Get user input\n",
    "text = input(\"Enter review: \")\n",
    "\n",
    "# Clean the review text\n",
    "clean_data = preprocess_text(text)  # This should return a cleaned string\n",
    "\n",
    "# Vectorize using the already trained vectorizer (do NOT use fit_transform)\n",
    "X = tfidf_vectorizer.transform([clean_data])  # Wrap in a list to avoid error\n",
    "\n",
    "# Predict using the trained model\n",
    "predicted_rating = model.predict(X)\n",
    "\n",
    "# Output the result\n",
    "print(f\"The predicted rating for the review '{text}' is: {predicted_rating[0]:.2f}\")"
   ]
  },
  {
   "cell_type": "code",
   "execution_count": 7,
   "metadata": {},
   "outputs": [
    {
     "data": {
      "text/plain": [
       "['models/tfidf.pkl']"
      ]
     },
     "execution_count": 7,
     "metadata": {},
     "output_type": "execute_result"
    }
   ],
   "source": [
    "import joblib\n",
    "\n",
    "# Save trained models\n",
    "joblib.dump(model, 'models/model_ridge.pkl')\n",
    "joblib.dump(tfidf_vectorizer, 'models/tfidf.pkl')"
   ]
  },
  {
   "cell_type": "markdown",
   "id": "7e25cd5c",
   "metadata": {},
   "source": [
    "## Word2VEC"
   ]
  },
  {
   "cell_type": "code",
   "execution_count": 3,
   "metadata": {},
   "outputs": [],
   "source": [
    "from gensim.models import Word2Vec\n",
    "import numpy as np\n",
    "\n",
    "# Tokenize the cleaned reviews for Word2Vec training\n",
    "tokenized_reviews = [review.split() for review in cleaned_df['Cleaned_Review']]\n",
    "\n",
    "# Train a Word2Vec model\n",
    "w2v_model = Word2Vec(sentences=tokenized_reviews, vector_size=100, window=5, min_count=5, workers=4, sg=1, seed=42)\n",
    "\n",
    "# Function to get average word2vec embedding for a review\n",
    "def get_review_vector(tokens, model, vector_size):\n",
    "    vectors = [model.wv[word] for word in tokens if word in model.wv]\n",
    "    if len(vectors) == 0:\n",
    "        return np.zeros(vector_size)\n",
    "    else:\n",
    "        return np.mean(vectors, axis=0)\n",
    "\n",
    "# Create feature matrix using average word2vec embeddings\n",
    "X_w2v = np.vstack([\n",
    "    get_review_vector(tokens, w2v_model, w2v_model.vector_size)\n",
    "    for tokens in tokenized_reviews\n",
    "])"
   ]
  },
  {
   "cell_type": "code",
   "execution_count": 5,
   "metadata": {},
   "outputs": [],
   "source": [
    "from sklearn.model_selection import train_test_split\n",
    "y = cleaned_df['Rating']\n",
    "# Use the Word2Vec feature matrix for train-test split\n",
    "X_w2v_train, X_w2v_test, y_w2v_train, y_w2v_test = train_test_split(\n",
    "    X_w2v, y, test_size=0.2, random_state=42\n",
    ")"
   ]
  },
  {
   "cell_type": "code",
   "execution_count": 7,
   "id": "f9d074e7",
   "metadata": {},
   "outputs": [
    {
     "name": "stdout",
     "output_type": "stream",
     "text": [
      "Word2Vec Ridge MSE: 0.5583304323041101\n",
      "Word2Vec Ridge R2: 0.7121405068761708\n"
     ]
    }
   ],
   "source": [
    "from sklearn.linear_model import Ridge\n",
    "from sklearn.metrics import mean_squared_error, r2_score\n",
    "\n",
    "ridge_w2v = Ridge(alpha=1.0)\n",
    "ridge_w2v.fit(X_w2v_train, y_w2v_train)\n",
    "y_w2v_pred = ridge_w2v.predict(X_w2v_test)\n",
    "\n",
    "mse_w2v = mean_squared_error(y_w2v_test, y_w2v_pred)\n",
    "r2_w2v = r2_score(y_w2v_test, y_w2v_pred)\n",
    "\n",
    "print(f\"Word2Vec Ridge MSE: {mse_w2v}\")\n",
    "print(f\"Word2Vec Ridge R2: {r2_w2v}\")"
   ]
  },
  {
   "cell_type": "code",
   "execution_count": 22,
   "metadata": {},
   "outputs": [],
   "source": [
    "#function which tokenizes the text,lowercase the text, remove stopwords, and lemmatize the text \n",
    "def preprocess_text(text):\n",
    "    text = text.lower()\n",
    "    text = re.sub(r'[^a-zA-Z\\s!?]', '', text)  # Keep !? for sentiment\n",
    "    words = word_tokenize(text)\n",
    "    stop_words = list(stopwords.words('english'))\n",
    "    words = [word for word in words if word not in stop_words]\n",
    "    lemmatizer = WordNetLemmatizer()\n",
    "    words = [lemmatizer.lemmatize(word) for word in words]\n",
    "    return ' '.join(words)"
   ]
  },
  {
   "cell_type": "code",
   "execution_count": 9,
   "id": "1ad04a5f",
   "metadata": {},
   "outputs": [
    {
     "data": {
      "text/plain": [
       "['models/w2v.pkl']"
      ]
     },
     "execution_count": 9,
     "metadata": {},
     "output_type": "execute_result"
    }
   ],
   "source": [
    "import joblib\n",
    "\n",
    "# Save trained models\n",
    "joblib.dump(ridge_w2v, 'models/model_w2v.pkl')\n",
    "joblib.dump(w2v_model, 'models/w2v.pkl')"
   ]
  },
  {
   "cell_type": "code",
   "execution_count": 23,
   "id": "177923e1",
   "metadata": {},
   "outputs": [
    {
     "name": "stdout",
     "output_type": "stream",
     "text": [
      "\n",
      "Review: The album was a masterpiece from start to finish\n",
      "Predicted rating: 5.00 (scale: 0.5-5.0)\n",
      "\n",
      "Review: This album changed my life! Perfect in every way\n",
      "Predicted rating: 5.00 (scale: 0.5-5.0)\n",
      "\n",
      "Review: Some good tracks but overall disappointing\n",
      "Predicted rating: 2.92 (scale: 0.5-5.0)\n",
      "\n",
      "Review: The vocals were amazing, though the production quality ruined it\n",
      "Predicted rating: 2.47 (scale: 0.5-5.0)\n",
      "\n",
      "Review: A genre-defying record that blends jazz, electronica, and rock seamlessly, though some tracks feel unnecessarily long and meandering.\n",
      "Predicted rating: 3.88 (scale: 0.5-5.0)\n",
      "\n",
      "Review: Despite the hype, the album lacks originality and feels like a rehash of the band's previous work, with only a few standout moments.\n",
      "Predicted rating: 2.91 (scale: 0.5-5.0)\n",
      "\n",
      "Review: The production is lush and detailed, but the lyrics are pretentious and the melodies forgettable, making for a frustrating listen.\n",
      "Predicted rating: 2.93 (scale: 0.5-5.0)\n",
      "\n",
      "Review: There are a few catchy songs, but most of the album is forgettable.\n",
      "Predicted rating: 3.32 (scale: 0.5-5.0)\n",
      "\n",
      "Review: The instrumentation is solid, but the songwriting leaves much to be desired.\n",
      "Predicted rating: 4.12 (scale: 0.5-5.0)\n",
      "\n",
      "Review: Some tracks are fantastic, others are just filler.\n",
      "Predicted rating: 3.91 (scale: 0.5-5.0)\n",
      "\n",
      "Review: Wow, what an album. I totally needed another hour of generic pop songs in my life.\n",
      "Predicted rating: 3.75 (scale: 0.5-5.0)\n",
      "\n",
      "Review: Groundbreaking stuffΓÇöI've never heard such originality in a song called 'Love Tonight' before.\n",
      "Predicted rating: 4.26 (scale: 0.5-5.0)\n",
      "\n",
      "Review: If boredom was an art form, this album would be a masterpiece.\n",
      "Predicted rating: 5.00 (scale: 0.5-5.0)\n",
      "\n",
      "Review: Oh great, another autotuned ballad. Just what the world was missing.\n",
      "Predicted rating: 4.23 (scale: 0.5-5.0)\n",
      "\n",
      "Review: Truly inspiring how they managed to make every track sound exactly the same.\n",
      "Predicted rating: 4.41 (scale: 0.5-5.0)\n",
      "\n",
      "Review: I laughed, I cried, mostly because I couldn't believe I paid for this.\n",
      "Predicted rating: 3.49 (scale: 0.5-5.0)\n",
      "\n",
      "Review: This album really redefines the word 'mediocre'.\n",
      "Predicted rating: 3.44 (scale: 0.5-5.0)\n",
      "\n",
      "Review: So innovative, I almost didn't fall asleep halfway through.\n",
      "Predicted rating: 4.01 (scale: 0.5-5.0)\n",
      "\n",
      "Review: Mediocre at best - nothing special\n",
      "Predicted rating: 2.97 (scale: 0.5-5.0)\n",
      "\n",
      "Review: This album was the worst thing I heard in my life, Death to the artist and the producer, disgusting, awful, bad , waste of time\n",
      "Predicted rating: 3.07 (scale: 0.5-5.0)\n",
      "\n",
      "Review: Absolutely terrible album, not a single redeeming quality. I regret listening to it.\n",
      "Predicted rating: 2.24 (scale: 0.5-5.0)\n",
      "\n",
      "Review: Horrible in every way, the worst music I've ever heard.\n",
      "Predicted rating: 3.62 (scale: 0.5-5.0)\n",
      "\n",
      "Review: Unbearable noise, couldn't finish a single track.\n",
      "Predicted rating: 3.59 (scale: 0.5-5.0)\n",
      "\n",
      "Review: A complete disaster, avoid at all costs.\n",
      "Predicted rating: 0.50 (scale: 0.5-5.0)\n",
      "\n",
      "Review: Painful to listen to, a total waste of time.\n",
      "Predicted rating: 1.67 (scale: 0.5-5.0)\n",
      "\n",
      "Review: Zero talent, zero effort, zero enjoyment.\n",
      "Predicted rating: 4.25 (scale: 0.5-5.0)\n",
      "\n",
      "Review: This album is an insult to music.\n",
      "Predicted rating: 3.25 (scale: 0.5-5.0)\n",
      "\n",
      "Review: If I could give it a zero, I would.\n",
      "Predicted rating: 4.49 (scale: 0.5-5.0)\n",
      "\n",
      "Review: The most disappointing and awful release of the year.\n",
      "Predicted rating: 1.83 (scale: 0.5-5.0)\n",
      "\n",
      "Review: Disgusting, offensive, and unlistenable.\n",
      "Predicted rating: 0.61 (scale: 0.5-5.0)\n"
     ]
    }
   ],
   "source": [
    "def predict_rating(review):\n",
    "    # Preprocess\n",
    "    processed_review = preprocess_text(review)\n",
    "\n",
    "    # Transform\n",
    "    # Use Word2Vec average embedding instead of tf-idf\n",
    "    tokens = processed_review.split()\n",
    "    review_vector = get_review_vector(tokens, w2v_model, w2v_model.vector_size).reshape(1, -1)\n",
    "\n",
    "    # Predict\n",
    "    rating = ridge_w2v.predict(review_vector)[0]\n",
    "\n",
    "    # Ensure rating is within original bounds\n",
    "    min_rating, max_rating = cleaned_df['Rating'].min(), cleaned_df['Rating'].max()\n",
    "    rating = np.clip(rating, min_rating, max_rating)\n",
    "\n",
    "    return f\"Predicted rating: {rating:.2f} (scale: {min_rating}-{max_rating})\"\n",
    "\n",
    "# Test cases\n",
    "test_reviews = [\n",
    "    # Positive\n",
    "    \"The album was a masterpiece from start to finish\",\n",
    "    \"This album changed my life! Perfect in every way\",\n",
    "    # Mixed\n",
    "    \"Some good tracks but overall disappointing\",\n",
    "    \"The vocals were amazing, though the production quality ruined it\",\n",
    "    \"A genre-defying record that blends jazz, electronica, and rock seamlessly, though some tracks feel unnecessarily long and meandering.\",\n",
    "    \"Despite the hype, the album lacks originality and feels like a rehash of the band's previous work, with only a few standout moments.\",\n",
    "    \"The production is lush and detailed, but the lyrics are pretentious and the melodies forgettable, making for a frustrating listen.\",\n",
    "    \"There are a few catchy songs, but most of the album is forgettable.\",\n",
    "    \"The instrumentation is solid, but the songwriting leaves much to be desired.\",\n",
    "    \"Some tracks are fantastic, others are just filler.\",\n",
    "    # Sarcastic\n",
    "    \"Wow, what an album. I totally needed another hour of generic pop songs in my life.\",\n",
    "    \"Groundbreaking stuffΓÇöI've never heard such originality in a song called 'Love Tonight' before.\",\n",
    "    \"If boredom was an art form, this album would be a masterpiece.\",\n",
    "    \"Oh great, another autotuned ballad. Just what the world was missing.\",\n",
    "    \"Truly inspiring how they managed to make every track sound exactly the same.\",\n",
    "    \"I laughed, I cried, mostly because I couldn't believe I paid for this.\",\n",
    "    \"This album really redefines the word 'mediocre'.\",\n",
    "    \"So innovative, I almost didn't fall asleep halfway through.\",\n",
    "    # Negative\n",
    "    \"Mediocre at best - nothing special\",\n",
    "    \"This album was the worst thing I heard in my life, Death to the artist and the producer, disgusting, awful, bad , waste of time\",\n",
    "    \"Absolutely terrible album, not a single redeeming quality. I regret listening to it.\",\n",
    "    \"Horrible in every way, the worst music I've ever heard.\",\n",
    "    \"Unbearable noise, couldn't finish a single track.\",\n",
    "    \"A complete disaster, avoid at all costs.\",\n",
    "    \"Painful to listen to, a total waste of time.\",\n",
    "    \"Zero talent, zero effort, zero enjoyment.\",\n",
    "    \"This album is an insult to music.\",\n",
    "    \"If I could give it a zero, I would.\",\n",
    "    \"The most disappointing and awful release of the year.\",\n",
    "    \"Disgusting, offensive, and unlistenable.\"\n",
    "]\n",
    "\n",
    "for review in test_reviews:\n",
    "    print(f\"\\nReview: {review}\")\n",
    "    print(predict_rating(review))"
   ]
  },
  {
   "cell_type": "code",
   "execution_count": 24,
   "id": "cc821a15",
   "metadata": {},
   "outputs": [
    {
     "name": "stdout",
     "output_type": "stream",
     "text": [
      "The predicted rating for the review 'hh' is: 3.64\n"
     ]
    }
   ],
   "source": [
    "# Get user input\n",
    "text = input(\"Enter review: \")\n",
    "\n",
    "# Clean the review text\n",
    "clean_data = preprocess_text(text)  # This should return a cleaned string\n",
    "\n",
    "# Vectorize using the already trained vectorizer (do NOT use fit_transform)\n",
    "X = tfidf_vectorizer.transform([clean_data])  # Wrap in a list to avoid error\n",
    "\n",
    "# Predict using the trained model\n",
    "predicted_rating = model.predict(X)\n",
    "\n",
    "# Output the result\n",
    "print(f\"The predicted rating for the review '{text}' is: {predicted_rating[0]:.2f}\")"
   ]
  }
 ],
 "metadata": {
  "kernelspec": {
   "display_name": "base",
   "language": "python",
   "name": "python3"
  },
  "language_info": {
   "codemirror_mode": {
    "name": "ipython",
    "version": 3
   },
   "file_extension": ".py",
   "mimetype": "text/x-python",
   "name": "python",
   "nbconvert_exporter": "python",
   "pygments_lexer": "ipython3",
   "version": "3.12.7"
  }
 },
 "nbformat": 4,
 "nbformat_minor": 5
}
