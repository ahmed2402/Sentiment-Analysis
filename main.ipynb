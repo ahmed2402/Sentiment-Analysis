{
 "cells": [
  {
   "cell_type": "code",
   "execution_count": 1,
   "id": "4b55b2f0",
   "metadata": {},
   "outputs": [
    {
     "data": {
      "text/html": [
       "<div>\n",
       "<style scoped>\n",
       "    .dataframe tbody tr th:only-of-type {\n",
       "        vertical-align: middle;\n",
       "    }\n",
       "\n",
       "    .dataframe tbody tr th {\n",
       "        vertical-align: top;\n",
       "    }\n",
       "\n",
       "    .dataframe thead th {\n",
       "        text-align: right;\n",
       "    }\n",
       "</style>\n",
       "<table border=\"1\" class=\"dataframe\">\n",
       "  <thead>\n",
       "    <tr style=\"text-align: right;\">\n",
       "      <th></th>\n",
       "      <th>Review</th>\n",
       "      <th>Rating</th>\n",
       "      <th>Cleaned_Review</th>\n",
       "    </tr>\n",
       "  </thead>\n",
       "  <tbody>\n",
       "    <tr>\n",
       "      <th>0</th>\n",
       "      <td>i think i actually under-rate ok computer if a...</td>\n",
       "      <td>5.0</td>\n",
       "      <td>think actually underrate ok computer anything ...</td>\n",
       "    </tr>\n",
       "    <tr>\n",
       "      <th>1</th>\n",
       "      <td>i get why radiohead rub a lot of people the wr...</td>\n",
       "      <td>5.0</td>\n",
       "      <td>get radiohead rub lot people wrong way lot peo...</td>\n",
       "    </tr>\n",
       "    <tr>\n",
       "      <th>2</th>\n",
       "      <td>i would like to think i am good about not lett...</td>\n",
       "      <td>4.5</td>\n",
       "      <td>would like think good letting wider critical w...</td>\n",
       "    </tr>\n",
       "    <tr>\n",
       "      <th>3</th>\n",
       "      <td>there are radiohead devotees like there were o...</td>\n",
       "      <td>4.0</td>\n",
       "      <td>radiohead devotee like bowie devotee find unex...</td>\n",
       "    </tr>\n",
       "    <tr>\n",
       "      <th>4</th>\n",
       "      <td>i wrote a shining excellent review for this al...</td>\n",
       "      <td>5.0</td>\n",
       "      <td>wrote shining excellent review album browser w...</td>\n",
       "    </tr>\n",
       "  </tbody>\n",
       "</table>\n",
       "</div>"
      ],
      "text/plain": [
       "                                              Review  Rating  \\\n",
       "0  i think i actually under-rate ok computer if a...     5.0   \n",
       "1  i get why radiohead rub a lot of people the wr...     5.0   \n",
       "2  i would like to think i am good about not lett...     4.5   \n",
       "3  there are radiohead devotees like there were o...     4.0   \n",
       "4  i wrote a shining excellent review for this al...     5.0   \n",
       "\n",
       "                                      Cleaned_Review  \n",
       "0  think actually underrate ok computer anything ...  \n",
       "1  get radiohead rub lot people wrong way lot peo...  \n",
       "2  would like think good letting wider critical w...  \n",
       "3  radiohead devotee like bowie devotee find unex...  \n",
       "4  wrote shining excellent review album browser w...  "
      ]
     },
     "execution_count": 1,
     "metadata": {},
     "output_type": "execute_result"
    }
   ],
   "source": [
    "import pandas as pd\n",
    "data = pd.read_csv('./dataset/cleaned_music_reviews.csv')\n",
    "data.isna().sum()\n",
    "\n",
    "data.head()"
   ]
  },
  {
   "cell_type": "code",
   "execution_count": 2,
   "metadata": {},
   "outputs": [],
   "source": [
    "from sklearn.feature_extraction.text import TfidfVectorizer\n",
    "\n",
    "\n",
    "tfidf_vectorizer = TfidfVectorizer(\n",
    "    ngram_range=(1,3),\n",
    "    max_df=0.8,\n",
    "    min_df=5,\n",
    "    sublinear_tf=True \n",
    ")\n",
    "\n",
    "X = tfidf_vectorizer.fit_transform(data['Cleaned_Review'])\n",
    "vocab = tfidf_vectorizer.get_feature_names_out()\n"
   ]
  },
  {
   "cell_type": "code",
   "execution_count": 5,
   "metadata": {},
   "outputs": [
    {
     "name": "stdout",
     "output_type": "stream",
     "text": [
      "MSE :  0.640363531210197\n",
      "r2 :  0.1451905572738471\n"
     ]
    }
   ],
   "source": [
    "from sklearn.utils.class_weight import compute_sample_weight\n",
    "from sklearn.linear_model import Ridge\n",
    "from sklearn.metrics import mean_squared_error, r2_score\n",
    "from sklearn.model_selection import train_test_split\n",
    "# Original unbalanced data\n",
    "# X = tfidf_vectorizer.fit_transform(data['Cleaned_Review'])  # Use original unbalanced data\n",
    "y = data['Rating']\n",
    "\n",
    "X_train, X_test, y_train, y_test = train_test_split(X, y, test_size=0.2, random_state=42)\n",
    "\n",
    "# Inverse frequency weighting\n",
    "sample_weights = compute_sample_weight(\n",
    "    class_weight='balanced',\n",
    "    y=y_train\n",
    ")\n",
    "\n",
    "model = Ridge(alpha=1.0)\n",
    "model.fit(X_train, y_train, sample_weight=sample_weights)\n",
    "y_pred = model.predict(X_test)\n",
    "print(\"MSE : \",mean_squared_error(y_test,y_pred))\n",
    "print(\"r2 : \",r2_score(y_test,y_pred))\n"
   ]
  },
  {
   "cell_type": "code",
   "execution_count": 6,
   "metadata": {},
   "outputs": [
    {
     "name": "stdout",
     "output_type": "stream",
     "text": [
      "Training set class distribution:\n",
      "Counter({5.0: 23509, 4.5: 14155, 4.0: 11301, 3.5: 5617, 3.0: 3559, 2.5: 1765, 2.0: 1121, 1.5: 503, 1.0: 438, 0.5: 304})\n",
      "\n",
      "Testing set class distribution:\n",
      "Counter({5.0: 5886, 4.5: 3573, 4.0: 2852, 3.5: 1394, 3.0: 857, 2.5: 436, 2.0: 266, 1.5: 131, 0.5: 91, 1.0: 83})\n"
     ]
    },
    {
     "name": "stderr",
     "output_type": "stream",
     "text": [
      "C:\\Users\\Zainab\\AppData\\Local\\Temp\\ipykernel_15872\\3599580878.py:23: FutureWarning: The default of observed=False is deprecated and will be changed to True in a future version of pandas. Pass observed=False to retain current behavior or observed=True to adopt the future default and silence this warning.\n",
      "  bin_means = y_train.groupby(y_train_binned).mean()\n"
     ]
    },
    {
     "name": "stdout",
     "output_type": "stream",
     "text": [
      "\n",
      "Ridge Regression Results after SMOTE oversampling:\n",
      "MSE :  0.7029892708414007\n",
      "r2 :  0.061592614878076324\n"
     ]
    }
   ],
   "source": [
    "from collections import Counter\n",
    "from sklearn.linear_model import Ridge\n",
    "from sklearn.model_selection import train_test_split\n",
    "from sklearn.metrics import mean_squared_error, r2_score\n",
    "\n",
    "# Print class distribution of training and testing data\n",
    "print(\"Training set class distribution:\")\n",
    "print(Counter(y_train))\n",
    "print(\"\\nTesting set class distribution:\")\n",
    "print(Counter(y_test))\n",
    "\n",
    "# Bin ratings for SMOTE (since SMOTE is for classification, not regression)\n",
    "# We'll use a regression-friendly approach: bin the ratings, oversample, then train on original y\n",
    "from imblearn.over_sampling import SMOTE\n",
    "\n",
    "# Bin ratings for SMOTE\n",
    "y_train_binned = pd.cut(y_train, bins=[0,2,3,4,5], labels=[0,1,2,3], include_lowest=True)\n",
    "sm = SMOTE(random_state=42)\n",
    "X_res, y_res_binned = sm.fit_resample(X_train, y_train_binned)\n",
    "\n",
    "# Map binned labels back to original y_train values for regression\n",
    "# We'll use the mean rating in each bin as the target\n",
    "bin_means = y_train.groupby(y_train_binned).mean()\n",
    "y_res = y_res_binned.map(lambda b: bin_means.loc[b])\n",
    "\n",
    "# Train a Ridge regressor for improved r2 score\n",
    "ridge = Ridge(alpha=1.0, random_state=42)\n",
    "ridge.fit(X_res, y_res)\n",
    "y_pred_ridge = ridge.predict(X_test)\n",
    "\n",
    "print(\"\\nRidge Regression Results after SMOTE oversampling:\")\n",
    "print(\"MSE : \", mean_squared_error(y_test, y_pred_ridge))\n",
    "print(\"r2 : \", r2_score(y_test, y_pred_ridge))\n"
   ]
  }
 ],
 "metadata": {
  "kernelspec": {
   "display_name": "base",
   "language": "python",
   "name": "python3"
  },
  "language_info": {
   "codemirror_mode": {
    "name": "ipython",
    "version": 3
   },
   "file_extension": ".py",
   "mimetype": "text/x-python",
   "name": "python",
   "nbconvert_exporter": "python",
   "pygments_lexer": "ipython3",
   "version": "3.12.7"
  }
 },
 "nbformat": 4,
 "nbformat_minor": 5
}
