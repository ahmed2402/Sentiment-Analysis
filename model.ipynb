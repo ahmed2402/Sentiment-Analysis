{
 "cells": [
  {
   "cell_type": "code",
   "execution_count": null,
   "id": "32d3694e",
   "metadata": {},
   "outputs": [],
   "source": [
    "from sklearn.linear_model import LinearRegression,Lasso,Ridge\n",
    "from sklearn.ensemble import RandomForestRegressor,GradientBoostingRegressor\n",
    "from sklearn.svm import SVR\n",
    "from sklearn.neighbors import KNeighborsRegressor\n",
    "from sklearn.tree import DecisionTreeRegressor\n",
    "from xgboost import XGBRegressor\n",
    "from lightgbm import LGBMRegressor\n",
    "from catboost import CatBoostRegressor"
   ]
  },
  {
   "cell_type": "code",
   "execution_count": null,
   "metadata": {},
   "outputs": [],
   "source": [
    "models = {\n",
    "    'LinearRegression':LinearRegression(),\n",
    "    'Lasso':Lasso(),\n",
    "    'Ridge':Ridge(),\n",
    "    # 'RandomForestRegressor':RandomForestRegressor(),\n",
    "    # 'GradientBoostingRegressor':GradientBoostingRegressor(),\n",
    "    # 'SVR':SVR(),\n",
    "    # 'KNeighborsRegressor':KNeighborsRegressor(),\n",
    "    # 'DecisionTreeRegressor':DecisionTreeRegressor(),\n",
    "    # 'XGBRegressor':XGBRegressor(),\n",
    "    # 'LGBMRegressor':LGBMRegressor(),\n",
    "    # 'CatBoostRegressor':CatBoostRegressor()\n",
    "}"
   ]
  },
  {
   "cell_type": "code",
   "execution_count": null,
   "metadata": {},
   "outputs": [],
   "source": [
    "from sklearn.metrics import mean_squared_error,r2_score,mean_absolute_error,mean_absolute_percentage_error\n",
    "metrics_list = []\n",
    "\n",
    "for model in models.values():\n",
    "    model.fit(X_train,y_train)\n",
    "    y_pred = model.predict(X_test)\n",
    "    mse = mean_squared_error(y_test,y_pred)\n",
    "    rmse = np.sqrt(mse)\n",
    "    r2 = r2_score(y_test,y_pred)\n",
    "    mae = mean_absolute_error(y_test,y_pred)\n",
    "    mape = mean_absolute_percentage_error(y_test,y_pred)\n",
    "    metrics_list.append({\n",
    "        'Model':model.__class__.__name__,\n",
    "        'MSE':mse,\n",
    "        'RMSE':rmse,\n",
    "        'R2':r2,\n",
    "        'MAE':mae,\n",
    "        'MAPE':mape})\n",
    "        \n",
    "metrics_df = pd.DataFrame(metrics_list)\n"
   ]
  },
  {
   "cell_type": "code",
   "execution_count": null,
   "metadata": {},
   "outputs": [],
   "source": [
    "metrics_df"
   ]
  },
  {
   "cell_type": "code",
   "execution_count": null,
   "metadata": {},
   "outputs": [],
   "source": [
    "models = {\n",
    "    'RandomForestRegressor':RandomForestRegressor(),\n",
    "    'GradientBoostingRegressor':GradientBoostingRegressor(),\n",
    "    'SVR':SVR()\n",
    "}"
   ]
  },
  {
   "cell_type": "code",
   "execution_count": null,
   "metadata": {},
   "outputs": [],
   "source": [
    "for model in models.values():\n",
    "    model.fit(X_train,y_train)\n",
    "    y_pred = model.predict(X_test)\n",
    "    mse = mean_squared_error(y_test,y_pred)\n",
    "    rmse = np.sqrt(mse)\n",
    "    r2 = r2_score(y_test,y_pred)\n",
    "    mae = mean_absolute_error(y_test,y_pred)\n",
    "    mape = mean_absolute_percentage_error(y_test,y_pred)\n",
    "    metrics_list.append({\n",
    "        'Model':model.__class__.__name__,\n",
    "        'MSE':mse,\n",
    "        'RMSE':rmse,\n",
    "        'R2':r2,\n",
    "        'MAE':mae,\n",
    "        'MAPE':mape})\n",
    "        \n",
    "metrics_df = pd.DataFrame(metrics_list)\n"
   ]
  },
  {
   "cell_type": "code",
   "execution_count": null,
   "metadata": {},
   "outputs": [],
   "source": [
    "models = {\n",
    "    'KNeighborsRegressor':KNeighborsRegressor(),\n",
    "    'DecisionTreeRegressor':DecisionTreeRegressor(),\n",
    "}"
   ]
  },
  {
   "cell_type": "code",
   "execution_count": null,
   "metadata": {},
   "outputs": [],
   "source": [
    "for model in models.values():\n",
    "    model.fit(X_train,y_train)\n",
    "    y_pred = model.predict(X_test)\n",
    "    mse = mean_squared_error(y_test,y_pred)\n",
    "    rmse = np.sqrt(mse)\n",
    "    r2 = r2_score(y_test,y_pred)\n",
    "    mae = mean_absolute_error(y_test,y_pred)\n",
    "    mape = mean_absolute_percentage_error(y_test,y_pred)\n",
    "    metrics_list.append({\n",
    "        'Model':model.__class__.__name__,\n",
    "        'MSE':mse,\n",
    "        'RMSE':rmse,\n",
    "        'R2':r2,\n",
    "        'MAE':mae,\n",
    "        'MAPE':mape})\n",
    "        \n",
    "metrics_df = pd.DataFrame(metrics_list)\n"
   ]
  },
  {
   "cell_type": "code",
   "execution_count": null,
   "id": "2743c303",
   "metadata": {},
   "outputs": [],
   "source": [
    "models = {\n",
    "    'XGBRegressor':XGBRegressor(),\n",
    "    'LGBMRegressor':LGBMRegressor(),\n",
    "    'CatBoostRegressor':CatBoostRegressor()\n",
    "}"
   ]
  },
  {
   "cell_type": "code",
   "execution_count": null,
   "metadata": {},
   "outputs": [],
   "source": [
    "for model in models.values():\n",
    "    model.fit(X_train,y_train)\n",
    "    y_pred = model.predict(X_test)\n",
    "    mse = mean_squared_error(y_test,y_pred)\n",
    "    rmse = np.sqrt(mse)\n",
    "    r2 = r2_score(y_test,y_pred)\n",
    "    mae = mean_absolute_error(y_test,y_pred)\n",
    "    mape = mean_absolute_percentage_error(y_test,y_pred)\n",
    "    metrics_list.append({\n",
    "        'Model':model.__class__.__name__,\n",
    "        'MSE':mse,\n",
    "        'RMSE':rmse,\n",
    "        'R2':r2,\n",
    "        'MAE':mae,\n",
    "        'MAPE':mape})\n",
    "        \n",
    "metrics_df = pd.DataFrame(metrics_list)\n"
   ]
  },
  {
   "cell_type": "code",
   "execution_count": null,
   "metadata": {},
   "outputs": [],
   "source": []
  },
  {
   "cell_type": "code",
   "execution_count": null,
   "metadata": {},
   "outputs": [],
   "source": []
  },
  {
   "cell_type": "code",
   "execution_count": null,
   "metadata": {},
   "outputs": [],
   "source": []
  }
 ],
 "metadata": {
  "language_info": {
   "name": "python"
  }
 },
 "nbformat": 4,
 "nbformat_minor": 5
}
